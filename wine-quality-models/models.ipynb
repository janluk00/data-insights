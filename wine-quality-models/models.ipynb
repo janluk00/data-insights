{
 "cells": [
  {
   "cell_type": "code",
   "execution_count": 82,
   "metadata": {},
   "outputs": [],
   "source": [
    "# %pip install pandas\n",
    "import pandas as pd"
   ]
  },
  {
   "cell_type": "markdown",
   "metadata": {},
   "source": [
    "Ustawienie ziarna generatora."
   ]
  },
  {
   "cell_type": "code",
   "execution_count": 83,
   "metadata": {},
   "outputs": [],
   "source": [
    "GENERATOR_SEED = 308187"
   ]
  },
  {
   "cell_type": "code",
   "execution_count": 84,
   "metadata": {},
   "outputs": [
    {
     "data": {
      "text/html": [
       "<div>\n",
       "<style scoped>\n",
       "    .dataframe tbody tr th:only-of-type {\n",
       "        vertical-align: middle;\n",
       "    }\n",
       "\n",
       "    .dataframe tbody tr th {\n",
       "        vertical-align: top;\n",
       "    }\n",
       "\n",
       "    .dataframe thead th {\n",
       "        text-align: right;\n",
       "    }\n",
       "</style>\n",
       "<table border=\"1\" class=\"dataframe\">\n",
       "  <thead>\n",
       "    <tr style=\"text-align: right;\">\n",
       "      <th></th>\n",
       "      <th>fixedacidity</th>\n",
       "      <th>volatileacidity</th>\n",
       "      <th>citricacid</th>\n",
       "      <th>residualsugar</th>\n",
       "      <th>chlorides</th>\n",
       "      <th>freesulfurdioxide</th>\n",
       "      <th>totalsulfurdioxide</th>\n",
       "      <th>density</th>\n",
       "      <th>pH</th>\n",
       "      <th>sulphates</th>\n",
       "      <th>alcohol</th>\n",
       "      <th>quality</th>\n",
       "    </tr>\n",
       "  </thead>\n",
       "  <tbody>\n",
       "    <tr>\n",
       "      <th>0</th>\n",
       "      <td>7.0</td>\n",
       "      <td>0.270</td>\n",
       "      <td>0.36</td>\n",
       "      <td>20.70</td>\n",
       "      <td>0.045</td>\n",
       "      <td>45.0</td>\n",
       "      <td>170.0</td>\n",
       "      <td>1.00100</td>\n",
       "      <td>3.00</td>\n",
       "      <td>0.45</td>\n",
       "      <td>8.8</td>\n",
       "      <td>4</td>\n",
       "    </tr>\n",
       "    <tr>\n",
       "      <th>1</th>\n",
       "      <td>6.3</td>\n",
       "      <td>0.300</td>\n",
       "      <td>0.34</td>\n",
       "      <td>1.60</td>\n",
       "      <td>0.049</td>\n",
       "      <td>14.0</td>\n",
       "      <td>132.0</td>\n",
       "      <td>0.99400</td>\n",
       "      <td>3.30</td>\n",
       "      <td>0.49</td>\n",
       "      <td>9.5</td>\n",
       "      <td>4</td>\n",
       "    </tr>\n",
       "    <tr>\n",
       "      <th>2</th>\n",
       "      <td>8.1</td>\n",
       "      <td>0.280</td>\n",
       "      <td>0.40</td>\n",
       "      <td>6.90</td>\n",
       "      <td>0.050</td>\n",
       "      <td>30.0</td>\n",
       "      <td>97.0</td>\n",
       "      <td>0.99510</td>\n",
       "      <td>3.26</td>\n",
       "      <td>0.44</td>\n",
       "      <td>10.1</td>\n",
       "      <td>4</td>\n",
       "    </tr>\n",
       "    <tr>\n",
       "      <th>3</th>\n",
       "      <td>8.1</td>\n",
       "      <td>0.280</td>\n",
       "      <td>0.40</td>\n",
       "      <td>6.90</td>\n",
       "      <td>0.050</td>\n",
       "      <td>30.0</td>\n",
       "      <td>97.0</td>\n",
       "      <td>0.99510</td>\n",
       "      <td>3.26</td>\n",
       "      <td>0.44</td>\n",
       "      <td>10.1</td>\n",
       "      <td>4</td>\n",
       "    </tr>\n",
       "    <tr>\n",
       "      <th>4</th>\n",
       "      <td>6.2</td>\n",
       "      <td>0.320</td>\n",
       "      <td>0.16</td>\n",
       "      <td>7.00</td>\n",
       "      <td>0.045</td>\n",
       "      <td>30.0</td>\n",
       "      <td>136.0</td>\n",
       "      <td>0.99490</td>\n",
       "      <td>3.18</td>\n",
       "      <td>0.47</td>\n",
       "      <td>9.6</td>\n",
       "      <td>4</td>\n",
       "    </tr>\n",
       "    <tr>\n",
       "      <th>...</th>\n",
       "      <td>...</td>\n",
       "      <td>...</td>\n",
       "      <td>...</td>\n",
       "      <td>...</td>\n",
       "      <td>...</td>\n",
       "      <td>...</td>\n",
       "      <td>...</td>\n",
       "      <td>...</td>\n",
       "      <td>...</td>\n",
       "      <td>...</td>\n",
       "      <td>...</td>\n",
       "      <td>...</td>\n",
       "    </tr>\n",
       "    <tr>\n",
       "      <th>3929</th>\n",
       "      <td>4.9</td>\n",
       "      <td>0.235</td>\n",
       "      <td>0.27</td>\n",
       "      <td>11.75</td>\n",
       "      <td>0.030</td>\n",
       "      <td>34.0</td>\n",
       "      <td>118.0</td>\n",
       "      <td>0.99540</td>\n",
       "      <td>3.07</td>\n",
       "      <td>0.50</td>\n",
       "      <td>9.4</td>\n",
       "      <td>4</td>\n",
       "    </tr>\n",
       "    <tr>\n",
       "      <th>3930</th>\n",
       "      <td>6.2</td>\n",
       "      <td>0.210</td>\n",
       "      <td>0.29</td>\n",
       "      <td>1.60</td>\n",
       "      <td>0.039</td>\n",
       "      <td>24.0</td>\n",
       "      <td>92.0</td>\n",
       "      <td>0.99114</td>\n",
       "      <td>3.27</td>\n",
       "      <td>0.50</td>\n",
       "      <td>11.2</td>\n",
       "      <td>4</td>\n",
       "    </tr>\n",
       "    <tr>\n",
       "      <th>3931</th>\n",
       "      <td>6.6</td>\n",
       "      <td>0.320</td>\n",
       "      <td>0.36</td>\n",
       "      <td>8.00</td>\n",
       "      <td>0.047</td>\n",
       "      <td>57.0</td>\n",
       "      <td>168.0</td>\n",
       "      <td>0.99490</td>\n",
       "      <td>3.15</td>\n",
       "      <td>0.46</td>\n",
       "      <td>9.6</td>\n",
       "      <td>3</td>\n",
       "    </tr>\n",
       "    <tr>\n",
       "      <th>3932</th>\n",
       "      <td>6.5</td>\n",
       "      <td>0.240</td>\n",
       "      <td>0.19</td>\n",
       "      <td>1.20</td>\n",
       "      <td>0.041</td>\n",
       "      <td>30.0</td>\n",
       "      <td>111.0</td>\n",
       "      <td>0.99254</td>\n",
       "      <td>2.99</td>\n",
       "      <td>0.46</td>\n",
       "      <td>9.4</td>\n",
       "      <td>4</td>\n",
       "    </tr>\n",
       "    <tr>\n",
       "      <th>3933</th>\n",
       "      <td>5.5</td>\n",
       "      <td>0.290</td>\n",
       "      <td>0.30</td>\n",
       "      <td>1.10</td>\n",
       "      <td>0.022</td>\n",
       "      <td>20.0</td>\n",
       "      <td>110.0</td>\n",
       "      <td>0.98869</td>\n",
       "      <td>3.34</td>\n",
       "      <td>0.38</td>\n",
       "      <td>12.8</td>\n",
       "      <td>5</td>\n",
       "    </tr>\n",
       "  </tbody>\n",
       "</table>\n",
       "<p>3934 rows × 12 columns</p>\n",
       "</div>"
      ],
      "text/plain": [
       "      fixedacidity  volatileacidity  citricacid  residualsugar  chlorides  \\\n",
       "0              7.0            0.270        0.36          20.70      0.045   \n",
       "1              6.3            0.300        0.34           1.60      0.049   \n",
       "2              8.1            0.280        0.40           6.90      0.050   \n",
       "3              8.1            0.280        0.40           6.90      0.050   \n",
       "4              6.2            0.320        0.16           7.00      0.045   \n",
       "...            ...              ...         ...            ...        ...   \n",
       "3929           4.9            0.235        0.27          11.75      0.030   \n",
       "3930           6.2            0.210        0.29           1.60      0.039   \n",
       "3931           6.6            0.320        0.36           8.00      0.047   \n",
       "3932           6.5            0.240        0.19           1.20      0.041   \n",
       "3933           5.5            0.290        0.30           1.10      0.022   \n",
       "\n",
       "      freesulfurdioxide  totalsulfurdioxide  density    pH  sulphates  \\\n",
       "0                  45.0               170.0  1.00100  3.00       0.45   \n",
       "1                  14.0               132.0  0.99400  3.30       0.49   \n",
       "2                  30.0                97.0  0.99510  3.26       0.44   \n",
       "3                  30.0                97.0  0.99510  3.26       0.44   \n",
       "4                  30.0               136.0  0.99490  3.18       0.47   \n",
       "...                 ...                 ...      ...   ...        ...   \n",
       "3929               34.0               118.0  0.99540  3.07       0.50   \n",
       "3930               24.0                92.0  0.99114  3.27       0.50   \n",
       "3931               57.0               168.0  0.99490  3.15       0.46   \n",
       "3932               30.0               111.0  0.99254  2.99       0.46   \n",
       "3933               20.0               110.0  0.98869  3.34       0.38   \n",
       "\n",
       "      alcohol  quality  \n",
       "0         8.8        4  \n",
       "1         9.5        4  \n",
       "2        10.1        4  \n",
       "3        10.1        4  \n",
       "4         9.6        4  \n",
       "...       ...      ...  \n",
       "3929      9.4        4  \n",
       "3930     11.2        4  \n",
       "3931      9.6        3  \n",
       "3932      9.4        4  \n",
       "3933     12.8        5  \n",
       "\n",
       "[3934 rows x 12 columns]"
      ]
     },
     "execution_count": 84,
     "metadata": {},
     "output_type": "execute_result"
    }
   ],
   "source": [
    "analysis_data = pd.read_csv('white_wine.csv', decimal=',', sep=';')\n",
    "analysis_data"
   ]
  },
  {
   "cell_type": "markdown",
   "metadata": {},
   "source": [
    "Dane nie zawierają wartości nullowych, żadna kolumna nie jest typu object, co mogłoby wskazywać na niepoprawny typ, ze względu na to, że wszystkie zmienne powinny być liczbami zmiennoprzecinkowymi."
   ]
  },
  {
   "cell_type": "code",
   "execution_count": 85,
   "metadata": {},
   "outputs": [
    {
     "name": "stdout",
     "output_type": "stream",
     "text": [
      "<class 'pandas.core.frame.DataFrame'>\n",
      "RangeIndex: 3934 entries, 0 to 3933\n",
      "Data columns (total 12 columns):\n",
      " #   Column              Non-Null Count  Dtype  \n",
      "---  ------              --------------  -----  \n",
      " 0   fixedacidity        3934 non-null   float64\n",
      " 1   volatileacidity     3934 non-null   float64\n",
      " 2   citricacid          3934 non-null   float64\n",
      " 3   residualsugar       3934 non-null   float64\n",
      " 4   chlorides           3934 non-null   float64\n",
      " 5   freesulfurdioxide   3934 non-null   float64\n",
      " 6   totalsulfurdioxide  3934 non-null   float64\n",
      " 7   density             3934 non-null   float64\n",
      " 8   pH                  3934 non-null   float64\n",
      " 9   sulphates           3934 non-null   float64\n",
      " 10  alcohol             3934 non-null   float64\n",
      " 11  quality             3934 non-null   int64  \n",
      "dtypes: float64(11), int64(1)\n",
      "memory usage: 368.9 KB\n"
     ]
    }
   ],
   "source": [
    "analysis_data.info()"
   ]
  },
  {
   "cell_type": "markdown",
   "metadata": {},
   "source": [
    "Niektóre kolumny posiadają wartość 0, lecz nie świadczy to o błędnych danych - po prostu dane wino może nie zawierać danego składnika."
   ]
  },
  {
   "cell_type": "code",
   "execution_count": 86,
   "metadata": {},
   "outputs": [
    {
     "data": {
      "text/html": [
       "<div>\n",
       "<style scoped>\n",
       "    .dataframe tbody tr th:only-of-type {\n",
       "        vertical-align: middle;\n",
       "    }\n",
       "\n",
       "    .dataframe tbody tr th {\n",
       "        vertical-align: top;\n",
       "    }\n",
       "\n",
       "    .dataframe thead th {\n",
       "        text-align: right;\n",
       "    }\n",
       "</style>\n",
       "<table border=\"1\" class=\"dataframe\">\n",
       "  <thead>\n",
       "    <tr style=\"text-align: right;\">\n",
       "      <th></th>\n",
       "      <th>fixedacidity</th>\n",
       "      <th>volatileacidity</th>\n",
       "      <th>citricacid</th>\n",
       "      <th>residualsugar</th>\n",
       "      <th>chlorides</th>\n",
       "      <th>freesulfurdioxide</th>\n",
       "      <th>totalsulfurdioxide</th>\n",
       "      <th>density</th>\n",
       "      <th>pH</th>\n",
       "      <th>sulphates</th>\n",
       "      <th>alcohol</th>\n",
       "      <th>quality</th>\n",
       "    </tr>\n",
       "  </thead>\n",
       "  <tbody>\n",
       "    <tr>\n",
       "      <th>count</th>\n",
       "      <td>3934.000000</td>\n",
       "      <td>3934.000000</td>\n",
       "      <td>3934.000000</td>\n",
       "      <td>3934.000000</td>\n",
       "      <td>3934.000000</td>\n",
       "      <td>3934.000000</td>\n",
       "      <td>3934.000000</td>\n",
       "      <td>3934.000000</td>\n",
       "      <td>3934.000000</td>\n",
       "      <td>3934.000000</td>\n",
       "      <td>3934.000000</td>\n",
       "      <td>3934.000000</td>\n",
       "    </tr>\n",
       "    <tr>\n",
       "      <th>mean</th>\n",
       "      <td>6.849797</td>\n",
       "      <td>0.279146</td>\n",
       "      <td>0.333622</td>\n",
       "      <td>6.459558</td>\n",
       "      <td>0.045601</td>\n",
       "      <td>35.439883</td>\n",
       "      <td>138.869853</td>\n",
       "      <td>0.994068</td>\n",
       "      <td>3.189156</td>\n",
       "      <td>0.489858</td>\n",
       "      <td>10.501906</td>\n",
       "      <td>3.862989</td>\n",
       "    </tr>\n",
       "    <tr>\n",
       "      <th>std</th>\n",
       "      <td>0.838729</td>\n",
       "      <td>0.102392</td>\n",
       "      <td>0.120268</td>\n",
       "      <td>5.134349</td>\n",
       "      <td>0.021445</td>\n",
       "      <td>17.244178</td>\n",
       "      <td>42.456374</td>\n",
       "      <td>0.003028</td>\n",
       "      <td>0.152655</td>\n",
       "      <td>0.114667</td>\n",
       "      <td>1.226966</td>\n",
       "      <td>0.887400</td>\n",
       "    </tr>\n",
       "    <tr>\n",
       "      <th>min</th>\n",
       "      <td>3.800000</td>\n",
       "      <td>0.080000</td>\n",
       "      <td>0.000000</td>\n",
       "      <td>0.600000</td>\n",
       "      <td>0.009000</td>\n",
       "      <td>3.000000</td>\n",
       "      <td>9.000000</td>\n",
       "      <td>0.987110</td>\n",
       "      <td>2.720000</td>\n",
       "      <td>0.220000</td>\n",
       "      <td>8.000000</td>\n",
       "      <td>1.000000</td>\n",
       "    </tr>\n",
       "    <tr>\n",
       "      <th>25%</th>\n",
       "      <td>6.300000</td>\n",
       "      <td>0.210000</td>\n",
       "      <td>0.260000</td>\n",
       "      <td>1.700000</td>\n",
       "      <td>0.036000</td>\n",
       "      <td>23.000000</td>\n",
       "      <td>108.250000</td>\n",
       "      <td>0.991753</td>\n",
       "      <td>3.090000</td>\n",
       "      <td>0.410000</td>\n",
       "      <td>9.500000</td>\n",
       "      <td>3.000000</td>\n",
       "    </tr>\n",
       "    <tr>\n",
       "      <th>50%</th>\n",
       "      <td>6.800000</td>\n",
       "      <td>0.260000</td>\n",
       "      <td>0.310000</td>\n",
       "      <td>5.200000</td>\n",
       "      <td>0.043000</td>\n",
       "      <td>34.000000</td>\n",
       "      <td>134.000000</td>\n",
       "      <td>0.993800</td>\n",
       "      <td>3.180000</td>\n",
       "      <td>0.470000</td>\n",
       "      <td>10.400000</td>\n",
       "      <td>4.000000</td>\n",
       "    </tr>\n",
       "    <tr>\n",
       "      <th>75%</th>\n",
       "      <td>7.300000</td>\n",
       "      <td>0.320000</td>\n",
       "      <td>0.390000</td>\n",
       "      <td>10.100000</td>\n",
       "      <td>0.050000</td>\n",
       "      <td>46.000000</td>\n",
       "      <td>168.000000</td>\n",
       "      <td>0.996200</td>\n",
       "      <td>3.280000</td>\n",
       "      <td>0.550000</td>\n",
       "      <td>11.400000</td>\n",
       "      <td>4.000000</td>\n",
       "    </tr>\n",
       "    <tr>\n",
       "      <th>max</th>\n",
       "      <td>11.800000</td>\n",
       "      <td>1.100000</td>\n",
       "      <td>1.000000</td>\n",
       "      <td>65.800000</td>\n",
       "      <td>0.346000</td>\n",
       "      <td>289.000000</td>\n",
       "      <td>440.000000</td>\n",
       "      <td>1.038980</td>\n",
       "      <td>3.820000</td>\n",
       "      <td>1.080000</td>\n",
       "      <td>14.050000</td>\n",
       "      <td>7.000000</td>\n",
       "    </tr>\n",
       "  </tbody>\n",
       "</table>\n",
       "</div>"
      ],
      "text/plain": [
       "       fixedacidity  volatileacidity   citricacid  residualsugar    chlorides  \\\n",
       "count   3934.000000      3934.000000  3934.000000    3934.000000  3934.000000   \n",
       "mean       6.849797         0.279146     0.333622       6.459558     0.045601   \n",
       "std        0.838729         0.102392     0.120268       5.134349     0.021445   \n",
       "min        3.800000         0.080000     0.000000       0.600000     0.009000   \n",
       "25%        6.300000         0.210000     0.260000       1.700000     0.036000   \n",
       "50%        6.800000         0.260000     0.310000       5.200000     0.043000   \n",
       "75%        7.300000         0.320000     0.390000      10.100000     0.050000   \n",
       "max       11.800000         1.100000     1.000000      65.800000     0.346000   \n",
       "\n",
       "       freesulfurdioxide  totalsulfurdioxide      density           pH  \\\n",
       "count        3934.000000         3934.000000  3934.000000  3934.000000   \n",
       "mean           35.439883          138.869853     0.994068     3.189156   \n",
       "std            17.244178           42.456374     0.003028     0.152655   \n",
       "min             3.000000            9.000000     0.987110     2.720000   \n",
       "25%            23.000000          108.250000     0.991753     3.090000   \n",
       "50%            34.000000          134.000000     0.993800     3.180000   \n",
       "75%            46.000000          168.000000     0.996200     3.280000   \n",
       "max           289.000000          440.000000     1.038980     3.820000   \n",
       "\n",
       "         sulphates      alcohol      quality  \n",
       "count  3934.000000  3934.000000  3934.000000  \n",
       "mean      0.489858    10.501906     3.862989  \n",
       "std       0.114667     1.226966     0.887400  \n",
       "min       0.220000     8.000000     1.000000  \n",
       "25%       0.410000     9.500000     3.000000  \n",
       "50%       0.470000    10.400000     4.000000  \n",
       "75%       0.550000    11.400000     4.000000  \n",
       "max       1.080000    14.050000     7.000000  "
      ]
     },
     "execution_count": 86,
     "metadata": {},
     "output_type": "execute_result"
    }
   ],
   "source": [
    "analysis_data.describe()"
   ]
  },
  {
   "cell_type": "markdown",
   "metadata": {},
   "source": [
    "1752 wiersze z 3934 posiadają `quality` 4, zatem naiwny model dla każdego wina mógłby zwracać jakość 4, co dałoby (1752 / 3934) ~ 45% trafności."
   ]
  },
  {
   "cell_type": "code",
   "execution_count": 87,
   "metadata": {},
   "outputs": [
    {
     "data": {
      "text/plain": [
       "quality\n",
       "4    1752\n",
       "3    1185\n",
       "5     704\n",
       "2     141\n",
       "6     130\n",
       "1      17\n",
       "7       5\n",
       "Name: count, dtype: int64"
      ]
     },
     "execution_count": 87,
     "metadata": {},
     "output_type": "execute_result"
    }
   ],
   "source": [
    "analysis_data['quality'].value_counts()"
   ]
  },
  {
   "cell_type": "markdown",
   "metadata": {},
   "source": [
    "Macierz korelacji, pokazuje że największy wpływ na zmienną celu - `quality` ma zawartość alkoholu - wraz z wzrostem alkoholu w winie rośnie jakość. Drugim w kolejności atrybutem wpływającym na `quality` jest `density`, w tym przypadku jest jednak odwrotnie - wraz ze spadkiem gęstości wina, rośnie jakość. Trzecią mającą taki sam wpływ na zmienną celu jak gęstość, czyli ujemną korelację jest zawartość chlorków w winie.<br>\n",
    "Z predyktorów usunięte zostają `citricacid`, `freesulfurdioxide`, `sulphates`, ponieważ mają znikomy wpływ na jakość wina i mogą zaburzać działanie sieci neuronowych."
   ]
  },
  {
   "cell_type": "code",
   "execution_count": 88,
   "metadata": {},
   "outputs": [
    {
     "data": {
      "image/png": "[encoded data removed]",
      "text/plain": [
       "<Figure size 1000x500 with 2 Axes>"
      ]
     },
     "metadata": {},
     "output_type": "display_data"
    }
   ],
   "source": [
    "# %pip install seaborn\n",
    "import seaborn as sns\n",
    "import matplotlib.pyplot as plt\n",
    "\n",
    "plt.figure(figsize=(10, 5))\n",
    "correlation_matrix = analysis_data.corr()\n",
    "sns.heatmap(correlation_matrix, annot=True, cmap='coolwarm')\n",
    "plt.show()"
   ]
  },
  {
   "cell_type": "markdown",
   "metadata": {},
   "source": [
    "Przeanalizowane dane zostają kopiowane do zmiennej `data`."
   ]
  },
  {
   "cell_type": "code",
   "execution_count": 89,
   "metadata": {},
   "outputs": [
    {
     "data": {
      "text/html": [
       "<div>\n",
       "<style scoped>\n",
       "    .dataframe tbody tr th:only-of-type {\n",
       "        vertical-align: middle;\n",
       "    }\n",
       "\n",
       "    .dataframe tbody tr th {\n",
       "        vertical-align: top;\n",
       "    }\n",
       "\n",
       "    .dataframe thead th {\n",
       "        text-align: right;\n",
       "    }\n",
       "</style>\n",
       "<table border=\"1\" class=\"dataframe\">\n",
       "  <thead>\n",
       "    <tr style=\"text-align: right;\">\n",
       "      <th></th>\n",
       "      <th>fixedacidity</th>\n",
       "      <th>volatileacidity</th>\n",
       "      <th>residualsugar</th>\n",
       "      <th>chlorides</th>\n",
       "      <th>totalsulfurdioxide</th>\n",
       "      <th>density</th>\n",
       "      <th>pH</th>\n",
       "      <th>alcohol</th>\n",
       "      <th>quality</th>\n",
       "    </tr>\n",
       "  </thead>\n",
       "  <tbody>\n",
       "    <tr>\n",
       "      <th>0</th>\n",
       "      <td>7.0</td>\n",
       "      <td>0.270</td>\n",
       "      <td>20.70</td>\n",
       "      <td>0.045</td>\n",
       "      <td>170.0</td>\n",
       "      <td>1.00100</td>\n",
       "      <td>3.00</td>\n",
       "      <td>8.8</td>\n",
       "      <td>4</td>\n",
       "    </tr>\n",
       "    <tr>\n",
       "      <th>1</th>\n",
       "      <td>6.3</td>\n",
       "      <td>0.300</td>\n",
       "      <td>1.60</td>\n",
       "      <td>0.049</td>\n",
       "      <td>132.0</td>\n",
       "      <td>0.99400</td>\n",
       "      <td>3.30</td>\n",
       "      <td>9.5</td>\n",
       "      <td>4</td>\n",
       "    </tr>\n",
       "    <tr>\n",
       "      <th>2</th>\n",
       "      <td>8.1</td>\n",
       "      <td>0.280</td>\n",
       "      <td>6.90</td>\n",
       "      <td>0.050</td>\n",
       "      <td>97.0</td>\n",
       "      <td>0.99510</td>\n",
       "      <td>3.26</td>\n",
       "      <td>10.1</td>\n",
       "      <td>4</td>\n",
       "    </tr>\n",
       "    <tr>\n",
       "      <th>3</th>\n",
       "      <td>8.1</td>\n",
       "      <td>0.280</td>\n",
       "      <td>6.90</td>\n",
       "      <td>0.050</td>\n",
       "      <td>97.0</td>\n",
       "      <td>0.99510</td>\n",
       "      <td>3.26</td>\n",
       "      <td>10.1</td>\n",
       "      <td>4</td>\n",
       "    </tr>\n",
       "    <tr>\n",
       "      <th>4</th>\n",
       "      <td>6.2</td>\n",
       "      <td>0.320</td>\n",
       "      <td>7.00</td>\n",
       "      <td>0.045</td>\n",
       "      <td>136.0</td>\n",
       "      <td>0.99490</td>\n",
       "      <td>3.18</td>\n",
       "      <td>9.6</td>\n",
       "      <td>4</td>\n",
       "    </tr>\n",
       "    <tr>\n",
       "      <th>...</th>\n",
       "      <td>...</td>\n",
       "      <td>...</td>\n",
       "      <td>...</td>\n",
       "      <td>...</td>\n",
       "      <td>...</td>\n",
       "      <td>...</td>\n",
       "      <td>...</td>\n",
       "      <td>...</td>\n",
       "      <td>...</td>\n",
       "    </tr>\n",
       "    <tr>\n",
       "      <th>3929</th>\n",
       "      <td>4.9</td>\n",
       "      <td>0.235</td>\n",
       "      <td>11.75</td>\n",
       "      <td>0.030</td>\n",
       "      <td>118.0</td>\n",
       "      <td>0.99540</td>\n",
       "      <td>3.07</td>\n",
       "      <td>9.4</td>\n",
       "      <td>4</td>\n",
       "    </tr>\n",
       "    <tr>\n",
       "      <th>3930</th>\n",
       "      <td>6.2</td>\n",
       "      <td>0.210</td>\n",
       "      <td>1.60</td>\n",
       "      <td>0.039</td>\n",
       "      <td>92.0</td>\n",
       "      <td>0.99114</td>\n",
       "      <td>3.27</td>\n",
       "      <td>11.2</td>\n",
       "      <td>4</td>\n",
       "    </tr>\n",
       "    <tr>\n",
       "      <th>3931</th>\n",
       "      <td>6.6</td>\n",
       "      <td>0.320</td>\n",
       "      <td>8.00</td>\n",
       "      <td>0.047</td>\n",
       "      <td>168.0</td>\n",
       "      <td>0.99490</td>\n",
       "      <td>3.15</td>\n",
       "      <td>9.6</td>\n",
       "      <td>3</td>\n",
       "    </tr>\n",
       "    <tr>\n",
       "      <th>3932</th>\n",
       "      <td>6.5</td>\n",
       "      <td>0.240</td>\n",
       "      <td>1.20</td>\n",
       "      <td>0.041</td>\n",
       "      <td>111.0</td>\n",
       "      <td>0.99254</td>\n",
       "      <td>2.99</td>\n",
       "      <td>9.4</td>\n",
       "      <td>4</td>\n",
       "    </tr>\n",
       "    <tr>\n",
       "      <th>3933</th>\n",
       "      <td>5.5</td>\n",
       "      <td>0.290</td>\n",
       "      <td>1.10</td>\n",
       "      <td>0.022</td>\n",
       "      <td>110.0</td>\n",
       "      <td>0.98869</td>\n",
       "      <td>3.34</td>\n",
       "      <td>12.8</td>\n",
       "      <td>5</td>\n",
       "    </tr>\n",
       "  </tbody>\n",
       "</table>\n",
       "<p>3934 rows × 9 columns</p>\n",
       "</div>"
      ],
      "text/plain": [
       "      fixedacidity  volatileacidity  residualsugar  chlorides  \\\n",
       "0              7.0            0.270          20.70      0.045   \n",
       "1              6.3            0.300           1.60      0.049   \n",
       "2              8.1            0.280           6.90      0.050   \n",
       "3              8.1            0.280           6.90      0.050   \n",
       "4              6.2            0.320           7.00      0.045   \n",
       "...            ...              ...            ...        ...   \n",
       "3929           4.9            0.235          11.75      0.030   \n",
       "3930           6.2            0.210           1.60      0.039   \n",
       "3931           6.6            0.320           8.00      0.047   \n",
       "3932           6.5            0.240           1.20      0.041   \n",
       "3933           5.5            0.290           1.10      0.022   \n",
       "\n",
       "      totalsulfurdioxide  density    pH  alcohol  quality  \n",
       "0                  170.0  1.00100  3.00      8.8        4  \n",
       "1                  132.0  0.99400  3.30      9.5        4  \n",
       "2                   97.0  0.99510  3.26     10.1        4  \n",
       "3                   97.0  0.99510  3.26     10.1        4  \n",
       "4                  136.0  0.99490  3.18      9.6        4  \n",
       "...                  ...      ...   ...      ...      ...  \n",
       "3929               118.0  0.99540  3.07      9.4        4  \n",
       "3930                92.0  0.99114  3.27     11.2        4  \n",
       "3931               168.0  0.99490  3.15      9.6        3  \n",
       "3932               111.0  0.99254  2.99      9.4        4  \n",
       "3933               110.0  0.98869  3.34     12.8        5  \n",
       "\n",
       "[3934 rows x 9 columns]"
      ]
     },
     "execution_count": 89,
     "metadata": {},
     "output_type": "execute_result"
    }
   ],
   "source": [
    "data = analysis_data.drop(columns=['citricacid', 'freesulfurdioxide', 'sulphates'])\n",
    "data"
   ]
  },
  {
   "cell_type": "markdown",
   "metadata": {},
   "source": [
    "Podział na predyktory i zmienną celu."
   ]
  },
  {
   "cell_type": "code",
   "execution_count": 90,
   "metadata": {},
   "outputs": [],
   "source": [
    "X = data.drop(columns=['quality'])\n",
    "y = data['quality']"
   ]
  },
  {
   "cell_type": "markdown",
   "metadata": {},
   "source": [
    "Podział na dane uczące i testowe."
   ]
  },
  {
   "cell_type": "code",
   "execution_count": 91,
   "metadata": {},
   "outputs": [],
   "source": [
    "# %pip install scikit-learn\n",
    "from sklearn.model_selection import train_test_split\n",
    "\n",
    "X_train, X_test, y_train, y_test = train_test_split(X, y, test_size=0.3, random_state=GENERATOR_SEED, stratify=y)"
   ]
  },
  {
   "cell_type": "markdown",
   "metadata": {},
   "source": [
    "Utworzenie listy z nazwami kolumn predyktorów."
   ]
  },
  {
   "cell_type": "code",
   "execution_count": 128,
   "metadata": {},
   "outputs": [],
   "source": [
    "from sklearn.compose import make_column_selector\n",
    "\n",
    "sel_num = make_column_selector(dtype_include=['float64'])"
   ]
  },
  {
   "cell_type": "code",
   "execution_count": 129,
   "metadata": {},
   "outputs": [
    {
     "data": {
      "text/plain": [
       "['fixedacidity',\n",
       " 'volatileacidity',\n",
       " 'residualsugar',\n",
       " 'chlorides',\n",
       " 'totalsulfurdioxide',\n",
       " 'density',\n",
       " 'pH',\n",
       " 'alcohol']"
      ]
     },
     "execution_count": 129,
     "metadata": {},
     "output_type": "execute_result"
    }
   ],
   "source": [
    "sel_num(X)"
   ]
  },
  {
   "cell_type": "markdown",
   "metadata": {},
   "source": [
    "Normalizacja danych do przedziału <-1; 1>, wszystkie dane są liczbowe, zatem nie trzeba ich encodować."
   ]
  },
  {
   "cell_type": "code",
   "execution_count": 94,
   "metadata": {},
   "outputs": [],
   "source": [
    "from sklearn.compose import ColumnTransformer\n",
    "from sklearn.preprocessing import MinMaxScaler\n",
    "\n",
    "preprocesor = ColumnTransformer(\n",
    "    transformers=[\n",
    "        ('num', MinMaxScaler(feature_range=(-1, 1)), sel_num)\n",
    "    ]\n",
    ")"
   ]
  },
  {
   "cell_type": "markdown",
   "metadata": {},
   "source": [
    "Przy użyciu Pipeline tworzona jest \"lista kroków\" jaka ma się wykonać, w tym przypadku, najpierw z wyżej utworzonego preprocesora przekształcane są dane, a nastepnie przy użyciu MLPClassifier tworzy się klasyfikator oparty na sieci neuronowej.\n",
    "\n",
    "Parametr max_iter=250, został dostosowany ze względu na dość mały zbiór oraz \"nieprzeuczającą\" się sieć.\n",
    "Parametr learning_rate='adaptive' został dobrany, ze względu na dynamiczne dostosowywanie współcznika uczenia, co we współpracy, ze zwiększoną max_iter, znajduje równowagę między najeefektywniejszym nauczeniem sieci, tak by jej nie przeuczyć.\n"
   ]
  },
  {
   "cell_type": "code",
   "execution_count": 95,
   "metadata": {},
   "outputs": [],
   "source": [
    "from sklearn.pipeline import Pipeline\n",
    "from sklearn.neural_network import MLPClassifier\n",
    "\n",
    "mlp_classifier = MLPClassifier(random_state=GENERATOR_SEED, max_iter=250, learning_rate='adaptive')\n",
    "pipeline = Pipeline(\n",
    "    steps=[\n",
    "        ('prep', preprocesor),\n",
    "        ('siec', mlp_classifier)\n",
    "    ]\n",
    ")"
   ]
  },
  {
   "cell_type": "markdown",
   "metadata": {},
   "source": [
    "Przekształcenie zbioru uczącego oraz \"uczenie\" sieci neuronowej."
   ]
  },
  {
   "cell_type": "code",
   "execution_count": null,
   "metadata": {},
   "outputs": [],
   "source": [
    "pipeline.fit(X_train, y_train)"
   ]
  },
  {
   "cell_type": "markdown",
   "metadata": {},
   "source": [
    "Funkcja licząca trafność z tolerancją +-1."
   ]
  },
  {
   "cell_type": "code",
   "execution_count": 97,
   "metadata": {},
   "outputs": [],
   "source": [
    "def calculate_accuracy_within_tolerance(y_true, y_pred, tolerance=1):\n",
    "    sum = 0\n",
    "\n",
    "    for true, pred in zip(y_true, y_pred):\n",
    "        if (pred - tolerance) <= true <= (pred + tolerance):\n",
    "            sum += 1\n",
    "    \n",
    "    return (sum / len(y_true))"
   ]
  },
  {
   "cell_type": "markdown",
   "metadata": {},
   "source": [
    "Funkcja wyświetlająca informację o ocenie jakości modelu."
   ]
  },
  {
   "cell_type": "code",
   "execution_count": 98,
   "metadata": {},
   "outputs": [],
   "source": [
    "from sklearn.metrics import accuracy_score, mean_absolute_error\n",
    "\n",
    "def evaluate_model(y_true, y_pred, digits=3):\n",
    "    print(\"Trafność:\", round(100 * accuracy_score(y_true, y_pred), 3), \"\\b%\")\n",
    "    print(\"Trafność z tolerancją (+-1):\", round(100 * calculate_accuracy_within_tolerance(y_true, y_pred), digits), \"\\b%\")\n",
    "    print(\"Średni błąd bezwzględny:\", round(mean_absolute_error(y_true, y_pred), digits))"
   ]
  },
  {
   "cell_type": "markdown",
   "metadata": {},
   "source": [
    "Model radzi sobie średnio - 54.455% trafności, zachowuje się jednak lepiej niż naiwny model dla tego problemu. Jednak gdy spojrzymy na trafność z tolerancją +-1, można powiedzieć, że model radzi sobie znakomicie - 94.666%. Średni błąd bezwzględny wynosi: 0.515. Na podstawie tych 3 wyników, można wywnioskować, że model z dokładnym przewidzeniem jakości, poradził sobie przeciętnie, jednak trafność z tolerancją jak i średni błąd bezwzględny, pokazuje że model radzi sobie bardzo dobrze z przybliżoną oceną jakości."
   ]
  },
  {
   "cell_type": "code",
   "execution_count": 99,
   "metadata": {},
   "outputs": [
    {
     "name": "stdout",
     "output_type": "stream",
     "text": [
      "Trafność: 54.445%\n",
      "Trafność z tolerancją (+-1): 94.666%\n",
      "Średni błąd bezwzględny: 0.515\n"
     ]
    }
   ],
   "source": [
    "y_test_pred = pipeline.predict(X_test)\n",
    "\n",
    "evaluate_model(y_test, y_test_pred)"
   ]
  },
  {
   "cell_type": "markdown",
   "metadata": {},
   "source": [
    "Utworzenie pliku ze zbiorem uczącym z kolumnami `true` - prawdziwa jakość i `predicted` - przewidziana przez model jakość."
   ]
  },
  {
   "cell_type": "code",
   "execution_count": 100,
   "metadata": {},
   "outputs": [],
   "source": [
    "# predicted = X_test.copy()\n",
    "# predicted['true'] = y_test\n",
    "# predicted['predicted'] = y_test_pred\n",
    "# predicted.to_csv('classification_test_set.csv', index=False)\n",
    "# predicted"
   ]
  },
  {
   "cell_type": "markdown",
   "metadata": {},
   "source": [
    "# Regresja"
   ]
  },
  {
   "cell_type": "markdown",
   "metadata": {},
   "source": [
    "Parametry `max_iter` i `learnig_rate` zostały dobrane tak samo jako dla `MLPClassifier`, aby modele pracowały na takich samych ustawieniach."
   ]
  },
  {
   "cell_type": "code",
   "execution_count": null,
   "metadata": {},
   "outputs": [],
   "source": [
    "from sklearn.pipeline import Pipeline\n",
    "from sklearn.neural_network import MLPRegressor\n",
    "\n",
    "mlp_regressor = MLPRegressor(random_state=GENERATOR_SEED, max_iter=250, learning_rate='adaptive')\n",
    "\n",
    "pipeline_regression = Pipeline(\n",
    "    steps=[\n",
    "        ('prep', preprocesor),\n",
    "        ('siec', mlp_regressor)\n",
    "    ]\n",
    ")"
   ]
  },
  {
   "cell_type": "markdown",
   "metadata": {},
   "source": [
    "Uczenie modelu na danych uczących."
   ]
  },
  {
   "cell_type": "code",
   "execution_count": null,
   "metadata": {},
   "outputs": [],
   "source": [
    "pipeline_regression.fit(X_train, y_train)"
   ]
  },
  {
   "cell_type": "markdown",
   "metadata": {},
   "source": [
    "`Trafność`: 52.752%<br>\n",
    "`Trafność z tolerancją`: 95.428%<br>\n",
    "`Średni błąd bezwzględny`: 0.522<br>\n",
    "Różnica między dwoma modelami jest znikoma, ale istnieje. Pierwszą z różnic jest `Trafność` w modelu regresyjnym jest niższa o ok. 1.8 punkta procentowego. Wynika z tego, że `MLPClassifier` radzi sobie lepiej z dokładnym przewidzeniem jakości. Natomiast przy `Trafności z tolerancją +-1`, lepiej poradził sobie model regresyjny o ok. 0.9 punkta procentowego, co znaczy że `MLPRegressor` radzi sobie lepiej z przewidywaniem przybliżonego wyniku jakości. W przypadku `Średniego błędu bezwzględnego` jest to różnica 0.07 setnych, co świadczy że ogólnie modele radzą sobie z tym problemem na tym samym poziomie. Zależy jednak na czym nam zależy - na dokładnym przewidzeniu `quality`, czy też przybliżonym."
   ]
  },
  {
   "cell_type": "code",
   "execution_count": 126,
   "metadata": {},
   "outputs": [
    {
     "name": "stdout",
     "output_type": "stream",
     "text": [
      "Trafność: 52.752%\n",
      "Trafność z tolerancją (+-1): 95.428%\n",
      "Średni błąd bezwzględny: 0.522\n"
     ]
    }
   ],
   "source": [
    "y_reg_test_pred = pipeline_regression.predict(X_test)\n",
    "\n",
    "rounded_y_reg_test_pred = [round(y) for y in y_reg_test_pred]\n",
    "\n",
    "evaluate_model(y_test, rounded_y_reg_test_pred)"
   ]
  },
  {
   "cell_type": "markdown",
   "metadata": {},
   "source": [
    "Segment tworzący plik z zbiorem testowym wraz z kolumną `true` - prawdziwa wartość `quality` i `predicted` - przewidziana przez model `quality` zaokrąglona do 3 miejsc po przecinku."
   ]
  },
  {
   "cell_type": "code",
   "execution_count": 130,
   "metadata": {},
   "outputs": [],
   "source": [
    "# predicted_regression = X_test.copy()\n",
    "# predicted_regression['true'] = y_test\n",
    "# rounded = [round(y, 3) for y in y_reg_test_pred]\n",
    "# predicted_regression['predicted'] = rounded\n",
    "# predicted_regression.to_csv('regression_test_set.csv', index=False)\n",
    "# predicted_regression"
   ]
  },
  {
   "cell_type": "code",
   "execution_count": 105,
   "metadata": {},
   "outputs": [],
   "source": [
    "# X_train.to_csv('regression_training_set.csv', index=False)\n",
    "# X_test.to_csv('regression_test_set.csv', index=False)"
   ]
  }
 ],
 "metadata": {
  "kernelspec": {
   "display_name": "Python 3",
   "language": "python",
   "name": "python3"
  },
  "language_info": {
   "codemirror_mode": {
    "name": "ipython",
    "version": 3
   },
   "file_extension": ".py",
   "mimetype": "text/x-python",
   "name": "python",
   "nbconvert_exporter": "python",
   "pygments_lexer": "ipython3",
   "version": "3.12.0"
  }
 },
 "nbformat": 4,
 "nbformat_minor": 2
}
